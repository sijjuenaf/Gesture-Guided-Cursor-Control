{
 "cells": [
  {
   "cell_type": "code",
   "execution_count": 73,
   "id": "5d901e10-ad65-4033-a495-f162d7b11d91",
   "metadata": {},
   "outputs": [],
   "source": [
    "import cv2\n",
    "import mediapipe as mp\n",
    "import pyautogui\n",
    "import random\n",
    "import numpy as np\n",
    "from pynput.mouse import Button, Controller"
   ]
  },
  {
   "cell_type": "code",
   "execution_count": 75,
   "id": "68e2f5d2-4d5f-4c63-9f90-f9ba8218b5b9",
   "metadata": {},
   "outputs": [],
   "source": [
    "def get_angle(a, b, c):\n",
    "    radians = np.arctan2(c[1] - b[1], c[0] - b[0]) - np.arctan2(a[1] - b[1], a[0] - b[0])\n",
    "    angle = np.abs(np.degrees(radians))\n",
    "    return angle"
   ]
  },
  {
   "cell_type": "code",
   "execution_count": 77,
   "id": "704bbaba-484a-4c61-a91e-afeecd978d38",
   "metadata": {},
   "outputs": [],
   "source": [
    "def get_distance(landmark_ist):\n",
    "    if len(landmark_ist) < 2:\n",
    "        return\n",
    "    (x1, y1), (x2, y2) = landmark_ist[0], landmark_ist[1]\n",
    "    L = np.hypot(x2 - x1, y2 - y1)\n",
    "    return np.interp(L, [0, 1], [0, 1000])"
   ]
  },
  {
   "cell_type": "code",
   "execution_count": 79,
   "id": "1e37543a-b7f8-4f56-9270-aba570be4dfe",
   "metadata": {},
   "outputs": [],
   "source": [
    "def find_finger_tip(processed):\n",
    "    if processed.multi_hand_landmarks:\n",
    "        hand_landmarks = processed.multi_hand_landmarks[0]  # Assuming only one hand is detected\n",
    "        index_finger_tip = hand_landmarks.landmark[mpHands.HandLandmark.INDEX_FINGER_TIP]\n",
    "        return index_finger_tip\n",
    "    return None, None"
   ]
  },
  {
   "cell_type": "code",
   "execution_count": 81,
   "id": "f4d99aba-0d21-49af-9ed2-d7709475c3de",
   "metadata": {},
   "outputs": [],
   "source": [
    "def move_mouse(index_finger_tip):\n",
    "    if index_finger_tip is not None:\n",
    "        x = int(index_finger_tip.x * screen_width)\n",
    "        y = int(index_finger_tip.y / 2 * screen_height)\n",
    "        pyautogui.moveTo(x, y)"
   ]
  },
  {
   "cell_type": "code",
   "execution_count": 83,
   "id": "b5203d2a-f5c0-4e12-94b0-2c87b9ef252a",
   "metadata": {},
   "outputs": [],
   "source": [
    "def is_left_click(landmark_list, thumb_index_dist):\n",
    "    return (\n",
    "            get_angle(landmark_list[5], landmark_list[6], landmark_list[8]) < 50 and\n",
    "            get_angle(landmark_list[9], landmark_list[10], landmark_list[12]) > 90 and\n",
    "            thumb_index_dist > 50\n",
    "    )"
   ]
  },
  {
   "cell_type": "code",
   "execution_count": 85,
   "id": "131edf89-ee8a-45ab-ac3f-302ab5f50c80",
   "metadata": {},
   "outputs": [],
   "source": [
    "def is_right_click(landmark_list, thumb_index_dist):\n",
    "    return (\n",
    "            get_angle(landmark_list[9], landmark_list[10], landmark_list[12]) < 50 and\n",
    "            get_angle(landmark_list[5], landmark_list[6], landmark_list[8]) > 90  and\n",
    "            thumb_index_dist > 50\n",
    "    )"
   ]
  },
  {
   "cell_type": "code",
   "execution_count": 87,
   "id": "fbcbfa70-83b4-43e7-89db-3e6d0ae2a5c6",
   "metadata": {},
   "outputs": [],
   "source": [
    "def is_double_click(landmark_list, thumb_index_dist):\n",
    "    return (\n",
    "            get_angle(landmark_list[5], landmark_list[6], landmark_list[8]) < 50 and\n",
    "            get_angle(landmark_list[9], landmark_list[10], landmark_list[12]) < 50 and\n",
    "            thumb_index_dist > 50\n",
    "    )"
   ]
  },
  {
   "cell_type": "code",
   "execution_count": 89,
   "id": "a8f641ce-5ee7-4e41-99f4-5d26bed13cc9",
   "metadata": {},
   "outputs": [],
   "source": [
    "def is_screenshot(landmark_list, thumb_index_dist):\n",
    "    return (\n",
    "            get_angle(landmark_list[5], landmark_list[6], landmark_list[8]) < 50 and\n",
    "            get_angle(landmark_list[9], landmark_list[10], landmark_list[12]) < 50 and\n",
    "            thumb_index_dist < 50\n",
    "    )"
   ]
  },
  {
   "cell_type": "code",
   "execution_count": 91,
   "id": "5beae6da-a6c4-4ea0-8f1c-fa3318384343",
   "metadata": {},
   "outputs": [],
   "source": [
    "def detect_gesture(frame, landmark_list, processed):\n",
    "    if len(landmark_list) >= 21:\n",
    "\n",
    "        index_finger_tip = find_finger_tip(processed)\n",
    "        thumb_index_dist = get_distance([landmark_list[4], landmark_list[5]])\n",
    "\n",
    "        if get_distance([landmark_list[4], landmark_list[5]]) < 50  and get_angle(landmark_list[5], landmark_list[6], landmark_list[8]) > 90:\n",
    "            move_mouse(index_finger_tip)\n",
    "        elif is_left_click(landmark_list,  thumb_index_dist):\n",
    "            mouse.press(Button.left)\n",
    "            mouse.release(Button.left)\n",
    "            cv2.putText(frame, \"Left Click\", (50, 50), cv2.FONT_HERSHEY_SIMPLEX, 1, (0, 255, 0), 2)\n",
    "        elif is_right_click(landmark_list, thumb_index_dist):\n",
    "            mouse.press(Button.right)\n",
    "            mouse.release(Button.right)\n",
    "            cv2.putText(frame, \"Right Click\", (50, 50), cv2.FONT_HERSHEY_SIMPLEX, 1, (0, 0, 255), 2)\n",
    "        elif is_double_click(landmark_list, thumb_index_dist):\n",
    "            pyautogui.doubleClick()\n",
    "            cv2.putText(frame, \"Double Click\", (50, 50), cv2.FONT_HERSHEY_SIMPLEX, 1, (255, 255, 0), 2)\n",
    "        elif is_screenshot(landmark_list,thumb_index_dist ):\n",
    "            im1 = pyautogui.screenshot()\n",
    "            label = random.randint(1, 1000)\n",
    "            im1.save(f'my_screenshot_{label}.png')\n",
    "            cv2.putText(frame, \"Screenshot Taken\", (50, 50), cv2.FONT_HERSHEY_SIMPLEX, 1, (255, 255, 0), 2)"
   ]
  },
  {
   "cell_type": "code",
   "execution_count": 93,
   "id": "8a5480e4-20dd-467c-9f3f-992c0116226d",
   "metadata": {},
   "outputs": [],
   "source": [
    "mouse = Controller()\n",
    "\n",
    "\n",
    "screen_width, screen_height = pyautogui.size()\n",
    "\n",
    "mpHands = mp.solutions.hands\n",
    "hands = mpHands.Hands(\n",
    "    static_image_mode=False,\n",
    "    model_complexity=1,\n",
    "    min_detection_confidence=0.7,\n",
    "    min_tracking_confidence=0.7,\n",
    "    max_num_hands=1\n",
    ")"
   ]
  },
  {
   "cell_type": "code",
   "execution_count": 95,
   "id": "62ed5b3d-b4b9-48de-9a30-56d050963256",
   "metadata": {},
   "outputs": [],
   "source": [
    "def main():\n",
    "    draw = mp.solutions.drawing_utils\n",
    "    cap = cv2.VideoCapture(0)\n",
    "\n",
    "    try:\n",
    "        while cap.isOpened():\n",
    "            ret, frame = cap.read()\n",
    "            if not ret:\n",
    "                break\n",
    "            frame = cv2.flip(frame, 1)\n",
    "            frameRGB = cv2.cvtColor(frame, cv2.COLOR_BGR2RGB)\n",
    "            processed = hands.process(frameRGB)\n",
    "\n",
    "            landmark_list = []\n",
    "            if processed.multi_hand_landmarks:\n",
    "                hand_landmarks = processed.multi_hand_landmarks[0]  # Assuming only one hand is detected\n",
    "                draw.draw_landmarks(frame, hand_landmarks, mpHands.HAND_CONNECTIONS)\n",
    "                for lm in hand_landmarks.landmark:\n",
    "                    landmark_list.append((lm.x, lm.y))\n",
    "\n",
    "            detect_gesture(frame, landmark_list, processed)\n",
    "\n",
    "            cv2.imshow('Frame', frame)\n",
    "            if cv2.waitKey(1) & 0xFF == ord('q'):\n",
    "                break\n",
    "    finally:\n",
    "        cap.release()\n",
    "        cv2.destroyAllWindows()\n",
    "\n",
    "\n",
    "if __name__ == \"__main__\":\n",
    "    main()"
   ]
  },
  {
   "cell_type": "code",
   "execution_count": null,
   "id": "e1105e42-5c86-451e-a9be-7acdd934dade",
   "metadata": {},
   "outputs": [],
   "source": []
  },
  {
   "cell_type": "code",
   "execution_count": null,
   "id": "80492b5c-7855-4274-815e-20a9b7aa1793",
   "metadata": {},
   "outputs": [],
   "source": []
  },
  {
   "cell_type": "code",
   "execution_count": null,
   "id": "a35498b1-c347-4bab-a691-efb57524a4b1",
   "metadata": {},
   "outputs": [],
   "source": []
  },
  {
   "cell_type": "code",
   "execution_count": null,
   "id": "af19d1c9-e502-40d0-8bbd-83f99d0b7aee",
   "metadata": {},
   "outputs": [],
   "source": []
  },
  {
   "cell_type": "code",
   "execution_count": null,
   "id": "a0b97079-6954-4571-88cb-f2cb4cf23c27",
   "metadata": {},
   "outputs": [],
   "source": []
  },
  {
   "cell_type": "code",
   "execution_count": null,
   "id": "8b51345d-6134-47c4-8402-b739c266a6ec",
   "metadata": {},
   "outputs": [],
   "source": []
  },
  {
   "cell_type": "code",
   "execution_count": null,
   "id": "962a952a-e36f-4b86-89f2-1ee940ffba26",
   "metadata": {},
   "outputs": [],
   "source": []
  },
  {
   "cell_type": "code",
   "execution_count": null,
   "id": "49234ee7-8892-42b9-86a9-430e13c09139",
   "metadata": {},
   "outputs": [],
   "source": []
  }
 ],
 "metadata": {
  "kernelspec": {
   "display_name": "Python 3 (ipykernel)",
   "language": "python",
   "name": "python3"
  },
  "language_info": {
   "codemirror_mode": {
    "name": "ipython",
    "version": 3
   },
   "file_extension": ".py",
   "mimetype": "text/x-python",
   "name": "python",
   "nbconvert_exporter": "python",
   "pygments_lexer": "ipython3",
   "version": "3.12.7"
  }
 },
 "nbformat": 4,
 "nbformat_minor": 5
}
